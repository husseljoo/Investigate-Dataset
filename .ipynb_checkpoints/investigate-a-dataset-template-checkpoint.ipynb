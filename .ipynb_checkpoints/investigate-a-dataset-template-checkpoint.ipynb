{
 "cells": [
  {
   "cell_type": "markdown",
   "metadata": {},
   "source": [
    "\n",
    "# Project: Investigate a Dataset Firearm Background Checks\n",
    "\n",
    "## Table of Contents\n",
    "<ul>\n",
    "<li><a href=\"#intro\">Introduction</a></li>\n",
    "<li><a href=\"#wrangling\">Data Wrangling</a></li>\n",
    "<li><a href=\"#eda\">Exploratory Data Analysis</a></li>\n",
    "<li><a href=\"#conclusions\">Conclusions</a></li>\n",
    "</ul>"
   ]
  },
  {
   "cell_type": "markdown",
   "metadata": {},
   "source": [
    "<a id='intro'></a>\n",
    "## Introduction\n",
    "\n",
    "\n",
    ">This dataset comes from the FBI's National Instant Criminal Background Check System.\n",
    "The FBI provides data on the number of firearm checks per several attributes, noteably month and state.\n",
    "This data set contains data that started to get gathered in 1998.\n"
   ]
  },
  {
   "cell_type": "code",
   "execution_count": 3,
   "metadata": {},
   "outputs": [],
   "source": [
    "import pandas as pd\n",
    "import numpy as np\n",
    "from datetime import datetime\n",
    "import matplotlib.pyplot as plt\n",
    "%matplotlib inline"
   ]
  },
  {
   "cell_type": "markdown",
   "metadata": {},
   "source": [
    "<a id='wrangling'></a>\n",
    "## Data Wrangling\n",
    "*Here I will be using pandas to explore the data set annd build an intuition about the structure of the data as a whole to enable smooth exploration in the next steps.*\n",
    "### General Properties"
   ]
  },
  {
   "cell_type": "code",
   "execution_count": 4,
   "metadata": {},
   "outputs": [
    {
     "data": {
      "text/html": [
       "<div>\n",
       "<style scoped>\n",
       "    .dataframe tbody tr th:only-of-type {\n",
       "        vertical-align: middle;\n",
       "    }\n",
       "\n",
       "    .dataframe tbody tr th {\n",
       "        vertical-align: top;\n",
       "    }\n",
       "\n",
       "    .dataframe thead th {\n",
       "        text-align: right;\n",
       "    }\n",
       "</style>\n",
       "<table border=\"1\" class=\"dataframe\">\n",
       "  <thead>\n",
       "    <tr style=\"text-align: right;\">\n",
       "      <th></th>\n",
       "      <th>month</th>\n",
       "      <th>state</th>\n",
       "      <th>permit</th>\n",
       "      <th>permit_recheck</th>\n",
       "      <th>handgun</th>\n",
       "      <th>long_gun</th>\n",
       "      <th>other</th>\n",
       "      <th>multiple</th>\n",
       "      <th>admin</th>\n",
       "      <th>prepawn_handgun</th>\n",
       "      <th>...</th>\n",
       "      <th>returned_other</th>\n",
       "      <th>rentals_handgun</th>\n",
       "      <th>rentals_long_gun</th>\n",
       "      <th>private_sale_handgun</th>\n",
       "      <th>private_sale_long_gun</th>\n",
       "      <th>private_sale_other</th>\n",
       "      <th>return_to_seller_handgun</th>\n",
       "      <th>return_to_seller_long_gun</th>\n",
       "      <th>return_to_seller_other</th>\n",
       "      <th>totals</th>\n",
       "    </tr>\n",
       "  </thead>\n",
       "  <tbody>\n",
       "    <tr>\n",
       "      <th>0</th>\n",
       "      <td>2021-06</td>\n",
       "      <td>Alabama</td>\n",
       "      <td>31515.0</td>\n",
       "      <td>455.0</td>\n",
       "      <td>21625.0</td>\n",
       "      <td>13805.0</td>\n",
       "      <td>1448.0</td>\n",
       "      <td>903</td>\n",
       "      <td>1.0</td>\n",
       "      <td>32.0</td>\n",
       "      <td>...</td>\n",
       "      <td>0.0</td>\n",
       "      <td>0.0</td>\n",
       "      <td>0.0</td>\n",
       "      <td>33.0</td>\n",
       "      <td>24.0</td>\n",
       "      <td>5.0</td>\n",
       "      <td>0.0</td>\n",
       "      <td>2.0</td>\n",
       "      <td>0.0</td>\n",
       "      <td>72284</td>\n",
       "    </tr>\n",
       "    <tr>\n",
       "      <th>1</th>\n",
       "      <td>2021-06</td>\n",
       "      <td>Alaska</td>\n",
       "      <td>299.0</td>\n",
       "      <td>20.0</td>\n",
       "      <td>2964.0</td>\n",
       "      <td>2388.0</td>\n",
       "      <td>279.0</td>\n",
       "      <td>187</td>\n",
       "      <td>0.0</td>\n",
       "      <td>1.0</td>\n",
       "      <td>...</td>\n",
       "      <td>0.0</td>\n",
       "      <td>0.0</td>\n",
       "      <td>0.0</td>\n",
       "      <td>10.0</td>\n",
       "      <td>16.0</td>\n",
       "      <td>0.0</td>\n",
       "      <td>0.0</td>\n",
       "      <td>0.0</td>\n",
       "      <td>0.0</td>\n",
       "      <td>6415</td>\n",
       "    </tr>\n",
       "  </tbody>\n",
       "</table>\n",
       "<p>2 rows × 27 columns</p>\n",
       "</div>"
      ],
      "text/plain": [
       "     month    state   permit  permit_recheck  handgun  long_gun   other  \\\n",
       "0  2021-06  Alabama  31515.0           455.0  21625.0   13805.0  1448.0   \n",
       "1  2021-06   Alaska    299.0            20.0   2964.0    2388.0   279.0   \n",
       "\n",
       "   multiple  admin  prepawn_handgun   ...    returned_other  rentals_handgun  \\\n",
       "0       903    1.0             32.0   ...               0.0              0.0   \n",
       "1       187    0.0              1.0   ...               0.0              0.0   \n",
       "\n",
       "   rentals_long_gun  private_sale_handgun  private_sale_long_gun  \\\n",
       "0               0.0                  33.0                   24.0   \n",
       "1               0.0                  10.0                   16.0   \n",
       "\n",
       "   private_sale_other  return_to_seller_handgun  return_to_seller_long_gun  \\\n",
       "0                 5.0                       0.0                        2.0   \n",
       "1                 0.0                       0.0                        0.0   \n",
       "\n",
       "   return_to_seller_other  totals  \n",
       "0                     0.0   72284  \n",
       "1                     0.0    6415  \n",
       "\n",
       "[2 rows x 27 columns]"
      ]
     },
     "execution_count": 4,
     "metadata": {},
     "output_type": "execute_result"
    }
   ],
   "source": [
    "df=pd.read_csv(\"nics-firearm-background-checks.csv\")\n",
    "# totals is sum of every numerical column\n",
    "df.head(2)"
   ]
  },
  {
   "cell_type": "markdown",
   "metadata": {},
   "source": [
    "*adjust maximum displayed columns for better inspection*"
   ]
  },
  {
   "cell_type": "code",
   "execution_count": 3,
   "metadata": {},
   "outputs": [],
   "source": [
    "pd.set_option('display.max_columns', 27)"
   ]
  },
  {
   "cell_type": "code",
   "execution_count": 4,
   "metadata": {},
   "outputs": [
    {
     "data": {
      "text/plain": [
       "(14960, 27)"
      ]
     },
     "execution_count": 4,
     "metadata": {},
     "output_type": "execute_result"
    }
   ],
   "source": [
    "df.shape"
   ]
  },
  {
   "cell_type": "code",
   "execution_count": 5,
   "metadata": {},
   "outputs": [
    {
     "data": {
      "text/html": [
       "<div>\n",
       "<style scoped>\n",
       "    .dataframe tbody tr th:only-of-type {\n",
       "        vertical-align: middle;\n",
       "    }\n",
       "\n",
       "    .dataframe tbody tr th {\n",
       "        vertical-align: top;\n",
       "    }\n",
       "\n",
       "    .dataframe thead th {\n",
       "        text-align: right;\n",
       "    }\n",
       "</style>\n",
       "<table border=\"1\" class=\"dataframe\">\n",
       "  <thead>\n",
       "    <tr style=\"text-align: right;\">\n",
       "      <th></th>\n",
       "      <th>permit</th>\n",
       "      <th>permit_recheck</th>\n",
       "      <th>handgun</th>\n",
       "      <th>long_gun</th>\n",
       "      <th>other</th>\n",
       "      <th>multiple</th>\n",
       "      <th>admin</th>\n",
       "      <th>prepawn_handgun</th>\n",
       "      <th>prepawn_long_gun</th>\n",
       "      <th>prepawn_other</th>\n",
       "      <th>redemption_handgun</th>\n",
       "      <th>redemption_long_gun</th>\n",
       "      <th>redemption_other</th>\n",
       "      <th>returned_handgun</th>\n",
       "      <th>returned_long_gun</th>\n",
       "      <th>returned_other</th>\n",
       "      <th>rentals_handgun</th>\n",
       "      <th>rentals_long_gun</th>\n",
       "      <th>private_sale_handgun</th>\n",
       "      <th>private_sale_long_gun</th>\n",
       "      <th>private_sale_other</th>\n",
       "      <th>return_to_seller_handgun</th>\n",
       "      <th>return_to_seller_long_gun</th>\n",
       "      <th>return_to_seller_other</th>\n",
       "      <th>totals</th>\n",
       "    </tr>\n",
       "  </thead>\n",
       "  <tbody>\n",
       "    <tr>\n",
       "      <th>count</th>\n",
       "      <td>14936.000000</td>\n",
       "      <td>3.575000e+03</td>\n",
       "      <td>14940.000000</td>\n",
       "      <td>14941.000000</td>\n",
       "      <td>7975.000000</td>\n",
       "      <td>14960.000000</td>\n",
       "      <td>14937.000000</td>\n",
       "      <td>13017.000000</td>\n",
       "      <td>13015.000000</td>\n",
       "      <td>7590.000000</td>\n",
       "      <td>13020.000000</td>\n",
       "      <td>13019.000000</td>\n",
       "      <td>7590.000000</td>\n",
       "      <td>4675.000000</td>\n",
       "      <td>4620.000000</td>\n",
       "      <td>4290.000000</td>\n",
       "      <td>3465.000000</td>\n",
       "      <td>3300.000000</td>\n",
       "      <td>5225.000000</td>\n",
       "      <td>5225.000000</td>\n",
       "      <td>5225.000000</td>\n",
       "      <td>4950.000000</td>\n",
       "      <td>5225.000000</td>\n",
       "      <td>4730.000000</td>\n",
       "      <td>1.496000e+04</td>\n",
       "    </tr>\n",
       "    <tr>\n",
       "      <th>mean</th>\n",
       "      <td>7270.713042</td>\n",
       "      <td>9.328215e+03</td>\n",
       "      <td>7148.896586</td>\n",
       "      <td>7977.682886</td>\n",
       "      <td>554.185956</td>\n",
       "      <td>301.204880</td>\n",
       "      <td>52.542345</td>\n",
       "      <td>5.181993</td>\n",
       "      <td>7.515559</td>\n",
       "      <td>0.396179</td>\n",
       "      <td>446.313441</td>\n",
       "      <td>566.756971</td>\n",
       "      <td>2.660738</td>\n",
       "      <td>60.984599</td>\n",
       "      <td>14.115152</td>\n",
       "      <td>3.064336</td>\n",
       "      <td>0.151515</td>\n",
       "      <td>0.160606</td>\n",
       "      <td>37.440766</td>\n",
       "      <td>24.919043</td>\n",
       "      <td>4.132057</td>\n",
       "      <td>0.972929</td>\n",
       "      <td>0.927273</td>\n",
       "      <td>0.131290</td>\n",
       "      <td>2.618674e+04</td>\n",
       "    </tr>\n",
       "    <tr>\n",
       "      <th>std</th>\n",
       "      <td>25943.012877</td>\n",
       "      <td>6.210166e+04</td>\n",
       "      <td>10651.223168</td>\n",
       "      <td>9215.739326</td>\n",
       "      <td>1382.413355</td>\n",
       "      <td>780.155167</td>\n",
       "      <td>560.259585</td>\n",
       "      <td>11.418190</td>\n",
       "      <td>15.816793</td>\n",
       "      <td>1.428845</td>\n",
       "      <td>856.805937</td>\n",
       "      <td>906.427275</td>\n",
       "      <td>6.166716</td>\n",
       "      <td>148.739901</td>\n",
       "      <td>43.578113</td>\n",
       "      <td>22.507335</td>\n",
       "      <td>1.007686</td>\n",
       "      <td>1.014129</td>\n",
       "      <td>303.795207</td>\n",
       "      <td>134.414060</td>\n",
       "      <td>27.472034</td>\n",
       "      <td>4.825095</td>\n",
       "      <td>3.903025</td>\n",
       "      <td>0.524605</td>\n",
       "      <td>4.855120e+04</td>\n",
       "    </tr>\n",
       "    <tr>\n",
       "      <th>min</th>\n",
       "      <td>0.000000</td>\n",
       "      <td>0.000000e+00</td>\n",
       "      <td>0.000000</td>\n",
       "      <td>0.000000</td>\n",
       "      <td>0.000000</td>\n",
       "      <td>0.000000</td>\n",
       "      <td>0.000000</td>\n",
       "      <td>0.000000</td>\n",
       "      <td>0.000000</td>\n",
       "      <td>0.000000</td>\n",
       "      <td>0.000000</td>\n",
       "      <td>0.000000</td>\n",
       "      <td>0.000000</td>\n",
       "      <td>0.000000</td>\n",
       "      <td>0.000000</td>\n",
       "      <td>0.000000</td>\n",
       "      <td>0.000000</td>\n",
       "      <td>0.000000</td>\n",
       "      <td>0.000000</td>\n",
       "      <td>0.000000</td>\n",
       "      <td>0.000000</td>\n",
       "      <td>0.000000</td>\n",
       "      <td>0.000000</td>\n",
       "      <td>0.000000</td>\n",
       "      <td>0.000000e+00</td>\n",
       "    </tr>\n",
       "    <tr>\n",
       "      <th>25%</th>\n",
       "      <td>0.000000</td>\n",
       "      <td>0.000000e+00</td>\n",
       "      <td>1040.000000</td>\n",
       "      <td>2177.000000</td>\n",
       "      <td>30.000000</td>\n",
       "      <td>14.000000</td>\n",
       "      <td>0.000000</td>\n",
       "      <td>0.000000</td>\n",
       "      <td>0.000000</td>\n",
       "      <td>0.000000</td>\n",
       "      <td>0.000000</td>\n",
       "      <td>0.000000</td>\n",
       "      <td>0.000000</td>\n",
       "      <td>0.000000</td>\n",
       "      <td>0.000000</td>\n",
       "      <td>0.000000</td>\n",
       "      <td>0.000000</td>\n",
       "      <td>0.000000</td>\n",
       "      <td>0.000000</td>\n",
       "      <td>0.000000</td>\n",
       "      <td>0.000000</td>\n",
       "      <td>0.000000</td>\n",
       "      <td>0.000000</td>\n",
       "      <td>0.000000</td>\n",
       "      <td>5.067750e+03</td>\n",
       "    </tr>\n",
       "    <tr>\n",
       "      <th>50%</th>\n",
       "      <td>819.000000</td>\n",
       "      <td>0.000000e+00</td>\n",
       "      <td>3541.000000</td>\n",
       "      <td>5272.000000</td>\n",
       "      <td>180.000000</td>\n",
       "      <td>135.000000</td>\n",
       "      <td>0.000000</td>\n",
       "      <td>0.000000</td>\n",
       "      <td>1.000000</td>\n",
       "      <td>0.000000</td>\n",
       "      <td>55.000000</td>\n",
       "      <td>169.000000</td>\n",
       "      <td>0.000000</td>\n",
       "      <td>4.000000</td>\n",
       "      <td>0.000000</td>\n",
       "      <td>0.000000</td>\n",
       "      <td>0.000000</td>\n",
       "      <td>0.000000</td>\n",
       "      <td>0.000000</td>\n",
       "      <td>1.000000</td>\n",
       "      <td>0.000000</td>\n",
       "      <td>0.000000</td>\n",
       "      <td>0.000000</td>\n",
       "      <td>0.000000</td>\n",
       "      <td>1.346550e+04</td>\n",
       "    </tr>\n",
       "    <tr>\n",
       "      <th>75%</th>\n",
       "      <td>5649.500000</td>\n",
       "      <td>8.250000e+01</td>\n",
       "      <td>8671.000000</td>\n",
       "      <td>10755.000000</td>\n",
       "      <td>574.500000</td>\n",
       "      <td>333.000000</td>\n",
       "      <td>0.000000</td>\n",
       "      <td>5.000000</td>\n",
       "      <td>8.000000</td>\n",
       "      <td>0.000000</td>\n",
       "      <td>603.250000</td>\n",
       "      <td>808.000000</td>\n",
       "      <td>3.000000</td>\n",
       "      <td>49.000000</td>\n",
       "      <td>10.000000</td>\n",
       "      <td>1.000000</td>\n",
       "      <td>0.000000</td>\n",
       "      <td>0.000000</td>\n",
       "      <td>14.000000</td>\n",
       "      <td>14.000000</td>\n",
       "      <td>1.000000</td>\n",
       "      <td>0.000000</td>\n",
       "      <td>0.000000</td>\n",
       "      <td>0.000000</td>\n",
       "      <td>2.924800e+04</td>\n",
       "    </tr>\n",
       "    <tr>\n",
       "      <th>max</th>\n",
       "      <td>522188.000000</td>\n",
       "      <td>1.350676e+06</td>\n",
       "      <td>147714.000000</td>\n",
       "      <td>108058.000000</td>\n",
       "      <td>77929.000000</td>\n",
       "      <td>38907.000000</td>\n",
       "      <td>28083.000000</td>\n",
       "      <td>164.000000</td>\n",
       "      <td>269.000000</td>\n",
       "      <td>49.000000</td>\n",
       "      <td>10046.000000</td>\n",
       "      <td>8831.000000</td>\n",
       "      <td>104.000000</td>\n",
       "      <td>2159.000000</td>\n",
       "      <td>1303.000000</td>\n",
       "      <td>592.000000</td>\n",
       "      <td>13.000000</td>\n",
       "      <td>12.000000</td>\n",
       "      <td>10623.000000</td>\n",
       "      <td>4159.000000</td>\n",
       "      <td>829.000000</td>\n",
       "      <td>70.000000</td>\n",
       "      <td>62.000000</td>\n",
       "      <td>18.000000</td>\n",
       "      <td>1.427917e+06</td>\n",
       "    </tr>\n",
       "  </tbody>\n",
       "</table>\n",
       "</div>"
      ],
      "text/plain": [
       "              permit  permit_recheck        handgun       long_gun  \\\n",
       "count   14936.000000    3.575000e+03   14940.000000   14941.000000   \n",
       "mean     7270.713042    9.328215e+03    7148.896586    7977.682886   \n",
       "std     25943.012877    6.210166e+04   10651.223168    9215.739326   \n",
       "min         0.000000    0.000000e+00       0.000000       0.000000   \n",
       "25%         0.000000    0.000000e+00    1040.000000    2177.000000   \n",
       "50%       819.000000    0.000000e+00    3541.000000    5272.000000   \n",
       "75%      5649.500000    8.250000e+01    8671.000000   10755.000000   \n",
       "max    522188.000000    1.350676e+06  147714.000000  108058.000000   \n",
       "\n",
       "              other      multiple         admin  prepawn_handgun  \\\n",
       "count   7975.000000  14960.000000  14937.000000     13017.000000   \n",
       "mean     554.185956    301.204880     52.542345         5.181993   \n",
       "std     1382.413355    780.155167    560.259585        11.418190   \n",
       "min        0.000000      0.000000      0.000000         0.000000   \n",
       "25%       30.000000     14.000000      0.000000         0.000000   \n",
       "50%      180.000000    135.000000      0.000000         0.000000   \n",
       "75%      574.500000    333.000000      0.000000         5.000000   \n",
       "max    77929.000000  38907.000000  28083.000000       164.000000   \n",
       "\n",
       "       prepawn_long_gun  prepawn_other  redemption_handgun  \\\n",
       "count      13015.000000    7590.000000        13020.000000   \n",
       "mean           7.515559       0.396179          446.313441   \n",
       "std           15.816793       1.428845          856.805937   \n",
       "min            0.000000       0.000000            0.000000   \n",
       "25%            0.000000       0.000000            0.000000   \n",
       "50%            1.000000       0.000000           55.000000   \n",
       "75%            8.000000       0.000000          603.250000   \n",
       "max          269.000000      49.000000        10046.000000   \n",
       "\n",
       "       redemption_long_gun  redemption_other  returned_handgun  \\\n",
       "count         13019.000000       7590.000000       4675.000000   \n",
       "mean            566.756971          2.660738         60.984599   \n",
       "std             906.427275          6.166716        148.739901   \n",
       "min               0.000000          0.000000          0.000000   \n",
       "25%               0.000000          0.000000          0.000000   \n",
       "50%             169.000000          0.000000          4.000000   \n",
       "75%             808.000000          3.000000         49.000000   \n",
       "max            8831.000000        104.000000       2159.000000   \n",
       "\n",
       "       returned_long_gun  returned_other  rentals_handgun  rentals_long_gun  \\\n",
       "count        4620.000000     4290.000000      3465.000000       3300.000000   \n",
       "mean           14.115152        3.064336         0.151515          0.160606   \n",
       "std            43.578113       22.507335         1.007686          1.014129   \n",
       "min             0.000000        0.000000         0.000000          0.000000   \n",
       "25%             0.000000        0.000000         0.000000          0.000000   \n",
       "50%             0.000000        0.000000         0.000000          0.000000   \n",
       "75%            10.000000        1.000000         0.000000          0.000000   \n",
       "max          1303.000000      592.000000        13.000000         12.000000   \n",
       "\n",
       "       private_sale_handgun  private_sale_long_gun  private_sale_other  \\\n",
       "count           5225.000000            5225.000000         5225.000000   \n",
       "mean              37.440766              24.919043            4.132057   \n",
       "std              303.795207             134.414060           27.472034   \n",
       "min                0.000000               0.000000            0.000000   \n",
       "25%                0.000000               0.000000            0.000000   \n",
       "50%                0.000000               1.000000            0.000000   \n",
       "75%               14.000000              14.000000            1.000000   \n",
       "max            10623.000000            4159.000000          829.000000   \n",
       "\n",
       "       return_to_seller_handgun  return_to_seller_long_gun  \\\n",
       "count               4950.000000                5225.000000   \n",
       "mean                   0.972929                   0.927273   \n",
       "std                    4.825095                   3.903025   \n",
       "min                    0.000000                   0.000000   \n",
       "25%                    0.000000                   0.000000   \n",
       "50%                    0.000000                   0.000000   \n",
       "75%                    0.000000                   0.000000   \n",
       "max                   70.000000                  62.000000   \n",
       "\n",
       "       return_to_seller_other        totals  \n",
       "count             4730.000000  1.496000e+04  \n",
       "mean                 0.131290  2.618674e+04  \n",
       "std                  0.524605  4.855120e+04  \n",
       "min                  0.000000  0.000000e+00  \n",
       "25%                  0.000000  5.067750e+03  \n",
       "50%                  0.000000  1.346550e+04  \n",
       "75%                  0.000000  2.924800e+04  \n",
       "max                 18.000000  1.427917e+06  "
      ]
     },
     "execution_count": 5,
     "metadata": {},
     "output_type": "execute_result"
    }
   ],
   "source": [
    "df.describe()"
   ]
  },
  {
   "cell_type": "markdown",
   "metadata": {},
   "source": [
    "*check for any duplicates*"
   ]
  },
  {
   "cell_type": "code",
   "execution_count": 6,
   "metadata": {},
   "outputs": [
    {
     "data": {
      "text/plain": [
       "0"
      ]
     },
     "execution_count": 6,
     "metadata": {},
     "output_type": "execute_result"
    }
   ],
   "source": [
    "sum(df.duplicated())"
   ]
  },
  {
   "cell_type": "code",
   "execution_count": 7,
   "metadata": {},
   "outputs": [
    {
     "data": {
      "text/plain": [
       "(6985, 27)"
      ]
     },
     "execution_count": 7,
     "metadata": {},
     "output_type": "execute_result"
    }
   ],
   "source": [
    "df[df.other.isnull()].shape"
   ]
  },
  {
   "cell_type": "code",
   "execution_count": 8,
   "metadata": {},
   "outputs": [
    {
     "name": "stdout",
     "output_type": "stream",
     "text": [
      "<class 'pandas.core.frame.DataFrame'>\n",
      "RangeIndex: 14960 entries, 0 to 14959\n",
      "Data columns (total 27 columns):\n",
      "month                        14960 non-null object\n",
      "state                        14960 non-null object\n",
      "permit                       14936 non-null float64\n",
      "permit_recheck               3575 non-null float64\n",
      "handgun                      14940 non-null float64\n",
      "long_gun                     14941 non-null float64\n",
      "other                        7975 non-null float64\n",
      "multiple                     14960 non-null int64\n",
      "admin                        14937 non-null float64\n",
      "prepawn_handgun              13017 non-null float64\n",
      "prepawn_long_gun             13015 non-null float64\n",
      "prepawn_other                7590 non-null float64\n",
      "redemption_handgun           13020 non-null float64\n",
      "redemption_long_gun          13019 non-null float64\n",
      "redemption_other             7590 non-null float64\n",
      "returned_handgun             4675 non-null float64\n",
      "returned_long_gun            4620 non-null float64\n",
      "returned_other               4290 non-null float64\n",
      "rentals_handgun              3465 non-null float64\n",
      "rentals_long_gun             3300 non-null float64\n",
      "private_sale_handgun         5225 non-null float64\n",
      "private_sale_long_gun        5225 non-null float64\n",
      "private_sale_other           5225 non-null float64\n",
      "return_to_seller_handgun     4950 non-null float64\n",
      "return_to_seller_long_gun    5225 non-null float64\n",
      "return_to_seller_other       4730 non-null float64\n",
      "totals                       14960 non-null int64\n",
      "dtypes: float64(23), int64(2), object(2)\n",
      "memory usage: 3.1+ MB\n"
     ]
    }
   ],
   "source": [
    "df.info()"
   ]
  },
  {
   "cell_type": "code",
   "execution_count": 9,
   "metadata": {},
   "outputs": [],
   "source": [
    "# df[df.rentals_handgun.isnull()].plot(kind='bar');"
   ]
  },
  {
   "cell_type": "markdown",
   "metadata": {},
   "source": [
    "*create a dataframe grouped by states to apply easier analysis on it*"
   ]
  },
  {
   "cell_type": "code",
   "execution_count": 10,
   "metadata": {},
   "outputs": [],
   "source": [
    "df.month = pd.to_datetime(df['month'])"
   ]
  },
  {
   "cell_type": "code",
   "execution_count": 11,
   "metadata": {},
   "outputs": [
    {
     "data": {
      "text/html": [
       "<div>\n",
       "<style scoped>\n",
       "    .dataframe tbody tr th:only-of-type {\n",
       "        vertical-align: middle;\n",
       "    }\n",
       "\n",
       "    .dataframe tbody tr th {\n",
       "        vertical-align: top;\n",
       "    }\n",
       "\n",
       "    .dataframe thead th {\n",
       "        text-align: right;\n",
       "    }\n",
       "</style>\n",
       "<table border=\"1\" class=\"dataframe\">\n",
       "  <thead>\n",
       "    <tr style=\"text-align: right;\">\n",
       "      <th></th>\n",
       "      <th>state</th>\n",
       "      <th>month</th>\n",
       "      <th>permit</th>\n",
       "    </tr>\n",
       "  </thead>\n",
       "  <tbody>\n",
       "    <tr>\n",
       "      <th>0</th>\n",
       "      <td>Alabama</td>\n",
       "      <td>6</td>\n",
       "      <td>31515.0</td>\n",
       "    </tr>\n",
       "    <tr>\n",
       "      <th>55</th>\n",
       "      <td>Alabama</td>\n",
       "      <td>5</td>\n",
       "      <td>28248.0</td>\n",
       "    </tr>\n",
       "    <tr>\n",
       "      <th>110</th>\n",
       "      <td>Alabama</td>\n",
       "      <td>4</td>\n",
       "      <td>35936.0</td>\n",
       "    </tr>\n",
       "    <tr>\n",
       "      <th>165</th>\n",
       "      <td>Alabama</td>\n",
       "      <td>3</td>\n",
       "      <td>42992.0</td>\n",
       "    </tr>\n",
       "    <tr>\n",
       "      <th>220</th>\n",
       "      <td>Alabama</td>\n",
       "      <td>2</td>\n",
       "      <td>31803.0</td>\n",
       "    </tr>\n",
       "    <tr>\n",
       "      <th>275</th>\n",
       "      <td>Alabama</td>\n",
       "      <td>1</td>\n",
       "      <td>39955.0</td>\n",
       "    </tr>\n",
       "    <tr>\n",
       "      <th>330</th>\n",
       "      <td>Alabama</td>\n",
       "      <td>12</td>\n",
       "      <td>33421.0</td>\n",
       "    </tr>\n",
       "    <tr>\n",
       "      <th>385</th>\n",
       "      <td>Alabama</td>\n",
       "      <td>11</td>\n",
       "      <td>30694.0</td>\n",
       "    </tr>\n",
       "    <tr>\n",
       "      <th>440</th>\n",
       "      <td>Alabama</td>\n",
       "      <td>10</td>\n",
       "      <td>32038.0</td>\n",
       "    </tr>\n",
       "    <tr>\n",
       "      <th>495</th>\n",
       "      <td>Alabama</td>\n",
       "      <td>9</td>\n",
       "      <td>33228.0</td>\n",
       "    </tr>\n",
       "    <tr>\n",
       "      <th>550</th>\n",
       "      <td>Alabama</td>\n",
       "      <td>8</td>\n",
       "      <td>35838.0</td>\n",
       "    </tr>\n",
       "    <tr>\n",
       "      <th>605</th>\n",
       "      <td>Alabama</td>\n",
       "      <td>7</td>\n",
       "      <td>48126.0</td>\n",
       "    </tr>\n",
       "  </tbody>\n",
       "</table>\n",
       "</div>"
      ],
      "text/plain": [
       "       state  month   permit\n",
       "0    Alabama      6  31515.0\n",
       "55   Alabama      5  28248.0\n",
       "110  Alabama      4  35936.0\n",
       "165  Alabama      3  42992.0\n",
       "220  Alabama      2  31803.0\n",
       "275  Alabama      1  39955.0\n",
       "330  Alabama     12  33421.0\n",
       "385  Alabama     11  30694.0\n",
       "440  Alabama     10  32038.0\n",
       "495  Alabama      9  33228.0\n",
       "550  Alabama      8  35838.0\n",
       "605  Alabama      7  48126.0"
      ]
     },
     "execution_count": 11,
     "metadata": {},
     "output_type": "execute_result"
    }
   ],
   "source": [
    "data = [df['state'],df['month'].dt.month,df['permit']]\n",
    "headers = ['state','month','permit']\n",
    "df_month = pd.concat(data, axis=1, keys=headers)\n",
    "df_month_sum=df_month.groupby('month')\n",
    "df_month_sum.head(1)"
   ]
  },
  {
   "cell_type": "markdown",
   "metadata": {},
   "source": [
    "### Data Cleaning (preparing dataset for furhter exploration!)\n",
    ">1. Remove unnecessary columns such as'totals','return_to_seller_other','returned_other','redemption_other','prepawn_other' and 'other'.\n",
    ">2. Changing month column from string to date format.\n",
    ">3. Filling th rest of the missing values with mean values."
   ]
  },
  {
   "cell_type": "markdown",
   "metadata": {},
   "source": [
    "### convert month to a datetime object for ease of access an create a new year column"
   ]
  },
  {
   "cell_type": "code",
   "execution_count": 13,
   "metadata": {},
   "outputs": [
    {
     "data": {
      "text/plain": [
       "pandas._libs.tslibs.timestamps.Timestamp"
      ]
     },
     "execution_count": 13,
     "metadata": {},
     "output_type": "execute_result"
    }
   ],
   "source": [
    "type(df['month'][0])"
   ]
  },
  {
   "cell_type": "code",
   "execution_count": 5,
   "metadata": {},
   "outputs": [],
   "source": [
    "df.month = pd.to_datetime(df['month'])"
   ]
  },
  {
   "cell_type": "code",
   "execution_count": 6,
   "metadata": {},
   "outputs": [],
   "source": [
    "df['year']=df.month.dt.year"
   ]
  },
  {
   "cell_type": "markdown",
   "metadata": {},
   "source": [
    "### remove the following columns because they contain several null values and do not serve great value in our investigation anyways"
   ]
  },
  {
   "cell_type": "code",
   "execution_count": 7,
   "metadata": {},
   "outputs": [],
   "source": [
    "#delete totals and create a new more accurate column\n",
    "drop_cols=['totals','return_to_seller_other','returned_other','redemption_other','prepawn_other','other','totals']\n",
    "df.drop(drop_cols,axis=1,inplace=True)"
   ]
  },
  {
   "cell_type": "markdown",
   "metadata": {},
   "source": [
    "### fill the rest of missing values (NaN) with the mean value, all of them should be numerical"
   ]
  },
  {
   "cell_type": "code",
   "execution_count": 8,
   "metadata": {},
   "outputs": [],
   "source": [
    "df.fillna(df.mean(),inplace=True) #note only numeric data will be filled not"
   ]
  },
  {
   "cell_type": "markdown",
   "metadata": {},
   "source": [
    "*make sure that there are indeed no missing values*"
   ]
  },
  {
   "cell_type": "code",
   "execution_count": 18,
   "metadata": {},
   "outputs": [
    {
     "name": "stdout",
     "output_type": "stream",
     "text": [
      "<class 'pandas.core.frame.DataFrame'>\n",
      "RangeIndex: 14960 entries, 0 to 14959\n",
      "Data columns (total 22 columns):\n",
      "month                        14960 non-null datetime64[ns]\n",
      "state                        14960 non-null object\n",
      "permit                       14960 non-null float64\n",
      "permit_recheck               14960 non-null float64\n",
      "handgun                      14960 non-null float64\n",
      "long_gun                     14960 non-null float64\n",
      "multiple                     14960 non-null int64\n",
      "admin                        14960 non-null float64\n",
      "prepawn_handgun              14960 non-null float64\n",
      "prepawn_long_gun             14960 non-null float64\n",
      "redemption_handgun           14960 non-null float64\n",
      "redemption_long_gun          14960 non-null float64\n",
      "returned_handgun             14960 non-null float64\n",
      "returned_long_gun            14960 non-null float64\n",
      "rentals_handgun              14960 non-null float64\n",
      "rentals_long_gun             14960 non-null float64\n",
      "private_sale_handgun         14960 non-null float64\n",
      "private_sale_long_gun        14960 non-null float64\n",
      "private_sale_other           14960 non-null float64\n",
      "return_to_seller_handgun     14960 non-null float64\n",
      "return_to_seller_long_gun    14960 non-null float64\n",
      "year                         14960 non-null int64\n",
      "dtypes: datetime64[ns](1), float64(18), int64(2), object(1)\n",
      "memory usage: 2.5+ MB\n"
     ]
    }
   ],
   "source": [
    "df.info()"
   ]
  },
  {
   "cell_type": "markdown",
   "metadata": {},
   "source": [
    "<a id='eda'></a>\n",
    "## Exploratory Data Analysis\n",
    "\n",
    "### Research Question1: Which particular places played the biggest/least role in permits?"
   ]
  },
  {
   "cell_type": "markdown",
   "metadata": {},
   "source": [
    "### explore where/when the most permits took place in a single month"
   ]
  },
  {
   "cell_type": "code",
   "execution_count": 19,
   "metadata": {},
   "outputs": [
    {
     "data": {
      "text/plain": [
       "('North Carolina', Timestamp('2014-03-01 00:00:00'), 522188.0)"
      ]
     },
     "execution_count": 19,
     "metadata": {},
     "output_type": "execute_result"
    }
   ],
   "source": [
    "index=df['permit'].idxmax()\n",
    "(df.iloc[index]['state'],df.iloc[index].month,df.iloc[index]['permit'])"
   ]
  },
  {
   "cell_type": "markdown",
   "metadata": {},
   "source": [
    "### explore where/when the least permits took place in a single month"
   ]
  },
  {
   "cell_type": "code",
   "execution_count": 20,
   "metadata": {},
   "outputs": [
    {
     "data": {
      "text/plain": [
       "('Guam', 0.0)"
      ]
     },
     "execution_count": 20,
     "metadata": {},
     "output_type": "execute_result"
    }
   ],
   "source": [
    "index=df['permit'].idxmin()\n",
    "(df.iloc[index]['state'],df.iloc[index]['permit'])"
   ]
  },
  {
   "cell_type": "markdown",
   "metadata": {},
   "source": [
    "*Since the least amount is zero I am interested to know how many times it was the case that it is zero permits in a month*"
   ]
  },
  {
   "cell_type": "code",
   "execution_count": 21,
   "metadata": {},
   "outputs": [
    {
     "data": {
      "text/plain": [
       "5005"
      ]
     },
     "execution_count": 21,
     "metadata": {},
     "output_type": "execute_result"
    }
   ],
   "source": [
    "df[df.permit==0].shape[0]"
   ]
  },
  {
   "cell_type": "markdown",
   "metadata": {},
   "source": [
    "*See when the no permits per done in an entire month and see which years had the most of these month*"
   ]
  },
  {
   "cell_type": "code",
   "execution_count": 22,
   "metadata": {},
   "outputs": [
    {
     "data": {
      "text/html": [
       "<div>\n",
       "<style scoped>\n",
       "    .dataframe tbody tr th:only-of-type {\n",
       "        vertical-align: middle;\n",
       "    }\n",
       "\n",
       "    .dataframe tbody tr th {\n",
       "        vertical-align: top;\n",
       "    }\n",
       "\n",
       "    .dataframe thead th {\n",
       "        text-align: right;\n",
       "    }\n",
       "</style>\n",
       "<table border=\"1\" class=\"dataframe\">\n",
       "  <thead>\n",
       "    <tr style=\"text-align: right;\">\n",
       "      <th></th>\n",
       "      <th>year</th>\n",
       "      <th>state</th>\n",
       "    </tr>\n",
       "  </thead>\n",
       "  <tbody>\n",
       "    <tr>\n",
       "      <th>11</th>\n",
       "      <td>2021</td>\n",
       "      <td>Guam</td>\n",
       "    </tr>\n",
       "    <tr>\n",
       "      <th>21</th>\n",
       "      <td>2021</td>\n",
       "      <td>Mariana Islands</td>\n",
       "    </tr>\n",
       "    <tr>\n",
       "      <th>32</th>\n",
       "      <td>2021</td>\n",
       "      <td>New Jersey</td>\n",
       "    </tr>\n",
       "    <tr>\n",
       "      <th>41</th>\n",
       "      <td>2021</td>\n",
       "      <td>Puerto Rico</td>\n",
       "    </tr>\n",
       "    <tr>\n",
       "      <th>42</th>\n",
       "      <td>2021</td>\n",
       "      <td>Rhode Island</td>\n",
       "    </tr>\n",
       "    <tr>\n",
       "      <th>341</th>\n",
       "      <td>2020</td>\n",
       "      <td>Guam</td>\n",
       "    </tr>\n",
       "    <tr>\n",
       "      <th>351</th>\n",
       "      <td>2020</td>\n",
       "      <td>Mariana Islands</td>\n",
       "    </tr>\n",
       "    <tr>\n",
       "      <th>362</th>\n",
       "      <td>2020</td>\n",
       "      <td>New Jersey</td>\n",
       "    </tr>\n",
       "    <tr>\n",
       "      <th>371</th>\n",
       "      <td>2020</td>\n",
       "      <td>Puerto Rico</td>\n",
       "    </tr>\n",
       "    <tr>\n",
       "      <th>372</th>\n",
       "      <td>2020</td>\n",
       "      <td>Rhode Island</td>\n",
       "    </tr>\n",
       "    <tr>\n",
       "      <th>1001</th>\n",
       "      <td>2019</td>\n",
       "      <td>Guam</td>\n",
       "    </tr>\n",
       "    <tr>\n",
       "      <th>1011</th>\n",
       "      <td>2019</td>\n",
       "      <td>Mariana Islands</td>\n",
       "    </tr>\n",
       "    <tr>\n",
       "      <th>1022</th>\n",
       "      <td>2019</td>\n",
       "      <td>New Jersey</td>\n",
       "    </tr>\n",
       "    <tr>\n",
       "      <th>1031</th>\n",
       "      <td>2019</td>\n",
       "      <td>Puerto Rico</td>\n",
       "    </tr>\n",
       "    <tr>\n",
       "      <th>1032</th>\n",
       "      <td>2019</td>\n",
       "      <td>Rhode Island</td>\n",
       "    </tr>\n",
       "    <tr>\n",
       "      <th>1661</th>\n",
       "      <td>2018</td>\n",
       "      <td>Guam</td>\n",
       "    </tr>\n",
       "    <tr>\n",
       "      <th>1671</th>\n",
       "      <td>2018</td>\n",
       "      <td>Mariana Islands</td>\n",
       "    </tr>\n",
       "    <tr>\n",
       "      <th>1682</th>\n",
       "      <td>2018</td>\n",
       "      <td>New Jersey</td>\n",
       "    </tr>\n",
       "    <tr>\n",
       "      <th>1691</th>\n",
       "      <td>2018</td>\n",
       "      <td>Puerto Rico</td>\n",
       "    </tr>\n",
       "    <tr>\n",
       "      <th>1692</th>\n",
       "      <td>2018</td>\n",
       "      <td>Rhode Island</td>\n",
       "    </tr>\n",
       "    <tr>\n",
       "      <th>2321</th>\n",
       "      <td>2017</td>\n",
       "      <td>Guam</td>\n",
       "    </tr>\n",
       "    <tr>\n",
       "      <th>2331</th>\n",
       "      <td>2017</td>\n",
       "      <td>Mariana Islands</td>\n",
       "    </tr>\n",
       "    <tr>\n",
       "      <th>2342</th>\n",
       "      <td>2017</td>\n",
       "      <td>New Jersey</td>\n",
       "    </tr>\n",
       "    <tr>\n",
       "      <th>2348</th>\n",
       "      <td>2017</td>\n",
       "      <td>Oklahoma</td>\n",
       "    </tr>\n",
       "    <tr>\n",
       "      <th>2351</th>\n",
       "      <td>2017</td>\n",
       "      <td>Puerto Rico</td>\n",
       "    </tr>\n",
       "    <tr>\n",
       "      <th>2981</th>\n",
       "      <td>2016</td>\n",
       "      <td>Guam</td>\n",
       "    </tr>\n",
       "    <tr>\n",
       "      <th>2991</th>\n",
       "      <td>2016</td>\n",
       "      <td>Mariana Islands</td>\n",
       "    </tr>\n",
       "    <tr>\n",
       "      <th>3002</th>\n",
       "      <td>2016</td>\n",
       "      <td>New Jersey</td>\n",
       "    </tr>\n",
       "    <tr>\n",
       "      <th>3008</th>\n",
       "      <td>2016</td>\n",
       "      <td>Oklahoma</td>\n",
       "    </tr>\n",
       "    <tr>\n",
       "      <th>3011</th>\n",
       "      <td>2016</td>\n",
       "      <td>Puerto Rico</td>\n",
       "    </tr>\n",
       "    <tr>\n",
       "      <th>...</th>\n",
       "      <td>...</td>\n",
       "      <td>...</td>\n",
       "    </tr>\n",
       "    <tr>\n",
       "      <th>11550</th>\n",
       "      <td>2003</td>\n",
       "      <td>Alabama</td>\n",
       "    </tr>\n",
       "    <tr>\n",
       "      <th>11551</th>\n",
       "      <td>2003</td>\n",
       "      <td>Alaska</td>\n",
       "    </tr>\n",
       "    <tr>\n",
       "      <th>11557</th>\n",
       "      <td>2003</td>\n",
       "      <td>Delaware</td>\n",
       "    </tr>\n",
       "    <tr>\n",
       "      <th>11558</th>\n",
       "      <td>2003</td>\n",
       "      <td>District of Columbia</td>\n",
       "    </tr>\n",
       "    <tr>\n",
       "      <th>11559</th>\n",
       "      <td>2003</td>\n",
       "      <td>Florida</td>\n",
       "    </tr>\n",
       "    <tr>\n",
       "      <th>12210</th>\n",
       "      <td>2002</td>\n",
       "      <td>Alabama</td>\n",
       "    </tr>\n",
       "    <tr>\n",
       "      <th>12211</th>\n",
       "      <td>2002</td>\n",
       "      <td>Alaska</td>\n",
       "    </tr>\n",
       "    <tr>\n",
       "      <th>12215</th>\n",
       "      <td>2002</td>\n",
       "      <td>Colorado</td>\n",
       "    </tr>\n",
       "    <tr>\n",
       "      <th>12217</th>\n",
       "      <td>2002</td>\n",
       "      <td>Delaware</td>\n",
       "    </tr>\n",
       "    <tr>\n",
       "      <th>12218</th>\n",
       "      <td>2002</td>\n",
       "      <td>District of Columbia</td>\n",
       "    </tr>\n",
       "    <tr>\n",
       "      <th>12870</th>\n",
       "      <td>2001</td>\n",
       "      <td>Alabama</td>\n",
       "    </tr>\n",
       "    <tr>\n",
       "      <th>12871</th>\n",
       "      <td>2001</td>\n",
       "      <td>Alaska</td>\n",
       "    </tr>\n",
       "    <tr>\n",
       "      <th>12875</th>\n",
       "      <td>2001</td>\n",
       "      <td>Colorado</td>\n",
       "    </tr>\n",
       "    <tr>\n",
       "      <th>12877</th>\n",
       "      <td>2001</td>\n",
       "      <td>Delaware</td>\n",
       "    </tr>\n",
       "    <tr>\n",
       "      <th>12878</th>\n",
       "      <td>2001</td>\n",
       "      <td>District of Columbia</td>\n",
       "    </tr>\n",
       "    <tr>\n",
       "      <th>13530</th>\n",
       "      <td>2000</td>\n",
       "      <td>Alabama</td>\n",
       "    </tr>\n",
       "    <tr>\n",
       "      <th>13531</th>\n",
       "      <td>2000</td>\n",
       "      <td>Alaska</td>\n",
       "    </tr>\n",
       "    <tr>\n",
       "      <th>13535</th>\n",
       "      <td>2000</td>\n",
       "      <td>Colorado</td>\n",
       "    </tr>\n",
       "    <tr>\n",
       "      <th>13537</th>\n",
       "      <td>2000</td>\n",
       "      <td>Delaware</td>\n",
       "    </tr>\n",
       "    <tr>\n",
       "      <th>13538</th>\n",
       "      <td>2000</td>\n",
       "      <td>District of Columbia</td>\n",
       "    </tr>\n",
       "    <tr>\n",
       "      <th>14190</th>\n",
       "      <td>1999</td>\n",
       "      <td>Alabama</td>\n",
       "    </tr>\n",
       "    <tr>\n",
       "      <th>14191</th>\n",
       "      <td>1999</td>\n",
       "      <td>Alaska</td>\n",
       "    </tr>\n",
       "    <tr>\n",
       "      <th>14195</th>\n",
       "      <td>1999</td>\n",
       "      <td>Colorado</td>\n",
       "    </tr>\n",
       "    <tr>\n",
       "      <th>14197</th>\n",
       "      <td>1999</td>\n",
       "      <td>Delaware</td>\n",
       "    </tr>\n",
       "    <tr>\n",
       "      <th>14198</th>\n",
       "      <td>1999</td>\n",
       "      <td>District of Columbia</td>\n",
       "    </tr>\n",
       "    <tr>\n",
       "      <th>14850</th>\n",
       "      <td>1998</td>\n",
       "      <td>Alabama</td>\n",
       "    </tr>\n",
       "    <tr>\n",
       "      <th>14851</th>\n",
       "      <td>1998</td>\n",
       "      <td>Alaska</td>\n",
       "    </tr>\n",
       "    <tr>\n",
       "      <th>14853</th>\n",
       "      <td>1998</td>\n",
       "      <td>Arkansas</td>\n",
       "    </tr>\n",
       "    <tr>\n",
       "      <th>14855</th>\n",
       "      <td>1998</td>\n",
       "      <td>Colorado</td>\n",
       "    </tr>\n",
       "    <tr>\n",
       "      <th>14857</th>\n",
       "      <td>1998</td>\n",
       "      <td>Delaware</td>\n",
       "    </tr>\n",
       "  </tbody>\n",
       "</table>\n",
       "<p>120 rows × 2 columns</p>\n",
       "</div>"
      ],
      "text/plain": [
       "       year                 state\n",
       "11     2021                  Guam\n",
       "21     2021       Mariana Islands\n",
       "32     2021            New Jersey\n",
       "41     2021           Puerto Rico\n",
       "42     2021          Rhode Island\n",
       "341    2020                  Guam\n",
       "351    2020       Mariana Islands\n",
       "362    2020            New Jersey\n",
       "371    2020           Puerto Rico\n",
       "372    2020          Rhode Island\n",
       "1001   2019                  Guam\n",
       "1011   2019       Mariana Islands\n",
       "1022   2019            New Jersey\n",
       "1031   2019           Puerto Rico\n",
       "1032   2019          Rhode Island\n",
       "1661   2018                  Guam\n",
       "1671   2018       Mariana Islands\n",
       "1682   2018            New Jersey\n",
       "1691   2018           Puerto Rico\n",
       "1692   2018          Rhode Island\n",
       "2321   2017                  Guam\n",
       "2331   2017       Mariana Islands\n",
       "2342   2017            New Jersey\n",
       "2348   2017              Oklahoma\n",
       "2351   2017           Puerto Rico\n",
       "2981   2016                  Guam\n",
       "2991   2016       Mariana Islands\n",
       "3002   2016            New Jersey\n",
       "3008   2016              Oklahoma\n",
       "3011   2016           Puerto Rico\n",
       "...     ...                   ...\n",
       "11550  2003               Alabama\n",
       "11551  2003                Alaska\n",
       "11557  2003              Delaware\n",
       "11558  2003  District of Columbia\n",
       "11559  2003               Florida\n",
       "12210  2002               Alabama\n",
       "12211  2002                Alaska\n",
       "12215  2002              Colorado\n",
       "12217  2002              Delaware\n",
       "12218  2002  District of Columbia\n",
       "12870  2001               Alabama\n",
       "12871  2001                Alaska\n",
       "12875  2001              Colorado\n",
       "12877  2001              Delaware\n",
       "12878  2001  District of Columbia\n",
       "13530  2000               Alabama\n",
       "13531  2000                Alaska\n",
       "13535  2000              Colorado\n",
       "13537  2000              Delaware\n",
       "13538  2000  District of Columbia\n",
       "14190  1999               Alabama\n",
       "14191  1999                Alaska\n",
       "14195  1999              Colorado\n",
       "14197  1999              Delaware\n",
       "14198  1999  District of Columbia\n",
       "14850  1998               Alabama\n",
       "14851  1998                Alaska\n",
       "14853  1998              Arkansas\n",
       "14855  1998              Colorado\n",
       "14857  1998              Delaware\n",
       "\n",
       "[120 rows x 2 columns]"
      ]
     },
     "execution_count": 22,
     "metadata": {},
     "output_type": "execute_result"
    }
   ],
   "source": [
    "df_noPermits=df[df.permit==0].groupby('year')['year','state']\n",
    "df_noPermits.head()\n",
    "# df_noPermits.head(5).plot(kind='barh')"
   ]
  },
  {
   "cell_type": "code",
   "execution_count": 23,
   "metadata": {},
   "outputs": [],
   "source": [
    "# af=df_noPermits.plot();"
   ]
  },
  {
   "cell_type": "markdown",
   "metadata": {},
   "source": [
    "## Research Question2: Which states contribute the most in permits?"
   ]
  },
  {
   "cell_type": "markdown",
   "metadata": {},
   "source": [
    "### see the average number of permits per state"
   ]
  },
  {
   "cell_type": "code",
   "execution_count": 10,
   "metadata": {},
   "outputs": [],
   "source": [
    "#takes a dataframe,and one string to group by and one string of attribute \n",
    "#returns newly created dataframe after applying the groupBy on it\n",
    "def groupDf(df,group,attribute):\n",
    "    df_intermediate=df.groupby(group)[attribute].mean()\n",
    "    return df_intermediate"
   ]
  },
  {
   "cell_type": "code",
   "execution_count": 11,
   "metadata": {},
   "outputs": [
    {
     "data": {
      "text/plain": [
       "state\n",
       "Alabama        8711.338235\n",
       "Alaska           85.139706\n",
       "Arizona        3799.040441\n",
       "Arkansas       2515.518382\n",
       "California    29762.621324\n",
       "Name: permit, dtype: float64"
      ]
     },
     "execution_count": 11,
     "metadata": {},
     "output_type": "execute_result"
    }
   ],
   "source": [
    "df_statePermit=groupDf(df,'state','permit')\n",
    "df_statePermit.head()"
   ]
  },
  {
   "cell_type": "code",
   "execution_count": 61,
   "metadata": {},
   "outputs": [
    {
     "data": {
      "image/png": "[encoded data removed]",
      "text/plain": [
       "<Figure size 576x720 with 1 Axes>"
      ]
     },
     "metadata": {
      "needs_background": "light"
     },
     "output_type": "display_data"
    }
   ],
   "source": [
    "plt_statePermit=df_statePermit.plot(kind='barh', figsize=(8, 10), color='#86bf91', zorder=2, width=0.8);\n",
    "plt_statePermit.set_xlabel(\"Permits\",fontsize=18)\n",
    "plt_statePermit.set_ylabel(\"State\",fontsize=18)\n",
    "plt_statePermit;"
   ]
  },
  {
   "cell_type": "markdown",
   "metadata": {},
   "source": [
    "#### In this horizontal bar plot we can see the average permit amount in the different states. Besides Kentucky showing dominance in that regard, it can be seen that several states contribute with almost no permits throughout the years which signifies the concentration of firearm demands in a handful of states."
   ]
  },
  {
   "cell_type": "markdown",
   "metadata": {},
   "source": [
    "### see the average number of permits per month"
   ]
  },
  {
   "cell_type": "code",
   "execution_count": 14,
   "metadata": {},
   "outputs": [],
   "source": [
    "df['exactMonth']=df.month.dt.month"
   ]
  },
  {
   "cell_type": "code",
   "execution_count": 15,
   "metadata": {},
   "outputs": [
    {
     "data": {
      "text/plain": [
       "exactMonth\n",
       "1    8037.283341\n",
       "2    7653.155051\n",
       "3    8957.621681\n",
       "4    7765.933934\n",
       "5    7131.053301\n",
       "Name: permit, dtype: float64"
      ]
     },
     "execution_count": 15,
     "metadata": {},
     "output_type": "execute_result"
    }
   ],
   "source": [
    "df_monthPermit=groupDf(df,'exactMonth','permit')\n",
    "df_monthPermit.head()"
   ]
  },
  {
   "cell_type": "code",
   "execution_count": 60,
   "metadata": {},
   "outputs": [
    {
     "data": {
      "image/png": "[encoded data removed]",
      "text/plain": [
       "<Figure size 576x720 with 1 Axes>"
      ]
     },
     "metadata": {
      "needs_background": "light"
     },
     "output_type": "display_data"
    }
   ],
   "source": [
    "plt_monthPermit=df_monthPermit.plot(kind='barh', figsize=(8, 10), color='#86bf91', zorder=2, width=0.8);\n",
    "plt_monthPermit.set_xlabel(\"Permits\",fontsize=18)\n",
    "plt_monthPermit.set_ylabel(\"Month\",fontsize=18)\n",
    "plt_monthPermit;"
   ]
  },
  {
   "cell_type": "markdown",
   "metadata": {},
   "source": [
    "#### In this horizontal bar plot we can see the permit amount in the different months. One can see that march is the maximum month in terms of permits, but no significant difference can be seen between the months."
   ]
  },
  {
   "cell_type": "code",
   "execution_count": 29,
   "metadata": {},
   "outputs": [],
   "source": [
    "### Which states contribute the most in permits?"
   ]
  },
  {
   "cell_type": "markdown",
   "metadata": {},
   "source": [
    "### Research Question 3: When did the most permits occur?"
   ]
  },
  {
   "cell_type": "markdown",
   "metadata": {},
   "source": [
    "### see the average number of permits per year"
   ]
  },
  {
   "cell_type": "code",
   "execution_count": 17,
   "metadata": {},
   "outputs": [
    {
     "data": {
      "text/plain": [
       "year\n",
       "1998     776.724664\n",
       "1999    1649.386350\n",
       "2000    1860.324242\n",
       "2001    2133.845455\n",
       "2002    2065.471212\n",
       "Name: permit, dtype: float64"
      ]
     },
     "execution_count": 17,
     "metadata": {},
     "output_type": "execute_result"
    }
   ],
   "source": [
    "df_yearPermit=groupDf(df,'year','permit')\n",
    "df_yearPermit.head()"
   ]
  },
  {
   "cell_type": "code",
   "execution_count": 59,
   "metadata": {},
   "outputs": [
    {
     "data": {
      "image/png": "[encoded data removed]",
      "text/plain": [
       "<Figure size 576x720 with 1 Axes>"
      ]
     },
     "metadata": {
      "needs_background": "light"
     },
     "output_type": "display_data"
    }
   ],
   "source": [
    "plt_yearPermit=df_yearPermit.plot(kind='barh', figsize=(8, 10), color='#86bf91', zorder=2, width=0.8);\n",
    "plt_yearPermit.set_xlabel(\"Permits\",fontsize=18)\n",
    "plt_yearPermit.set_ylabel(\"Year\",fontsize=18)\n",
    "plt_yearPermit;"
   ]
  },
  {
   "cell_type": "markdown",
   "metadata": {},
   "source": [
    "#### In this horizontal bar plot we can see that permit amount grow gradually until reaching its peak in 2016. This describes the increasing demand to firearms over the years"
   ]
  },
  {
   "cell_type": "markdown",
   "metadata": {},
   "source": [
    "### Research Question 3:What is the correlation between the year and the permit recheck?"
   ]
  },
  {
   "cell_type": "code",
   "execution_count": 35,
   "metadata": {},
   "outputs": [
    {
     "data": {
      "text/html": [
       "<div>\n",
       "<style scoped>\n",
       "    .dataframe tbody tr th:only-of-type {\n",
       "        vertical-align: middle;\n",
       "    }\n",
       "\n",
       "    .dataframe tbody tr th {\n",
       "        vertical-align: top;\n",
       "    }\n",
       "\n",
       "    .dataframe thead th {\n",
       "        text-align: right;\n",
       "    }\n",
       "</style>\n",
       "<table border=\"1\" class=\"dataframe\">\n",
       "  <thead>\n",
       "    <tr style=\"text-align: right;\">\n",
       "      <th></th>\n",
       "      <th>year</th>\n",
       "      <th>permit_recheck</th>\n",
       "    </tr>\n",
       "  </thead>\n",
       "  <tbody>\n",
       "    <tr>\n",
       "      <th>0</th>\n",
       "      <td>2021</td>\n",
       "      <td>455.0</td>\n",
       "    </tr>\n",
       "    <tr>\n",
       "      <th>1</th>\n",
       "      <td>2021</td>\n",
       "      <td>20.0</td>\n",
       "    </tr>\n",
       "    <tr>\n",
       "      <th>2</th>\n",
       "      <td>2021</td>\n",
       "      <td>620.0</td>\n",
       "    </tr>\n",
       "    <tr>\n",
       "      <th>3</th>\n",
       "      <td>2021</td>\n",
       "      <td>828.0</td>\n",
       "    </tr>\n",
       "    <tr>\n",
       "      <th>4</th>\n",
       "      <td>2021</td>\n",
       "      <td>12744.0</td>\n",
       "    </tr>\n",
       "  </tbody>\n",
       "</table>\n",
       "</div>"
      ],
      "text/plain": [
       "   year  permit_recheck\n",
       "0  2021           455.0\n",
       "1  2021            20.0\n",
       "2  2021           620.0\n",
       "3  2021           828.0\n",
       "4  2021         12744.0"
      ]
     },
     "execution_count": 35,
     "metadata": {},
     "output_type": "execute_result"
    }
   ],
   "source": [
    "ww=df.groupby('year')['year','permit_recheck'].head()\n",
    "ww.head()"
   ]
  },
  {
   "cell_type": "code",
   "execution_count": 42,
   "metadata": {},
   "outputs": [
    {
     "data": {
      "image/png": "[encoded data removed]",
      "text/plain": [
       "<Figure size 432x288 with 1 Axes>"
      ]
     },
     "metadata": {
      "needs_background": "light"
     },
     "output_type": "display_data"
    }
   ],
   "source": [
    "plt.scatter(ww['year'],ww['permit_recheck'], c =\"blue\")\n",
    "plt.xlabel(\"Years\",fontsize=18)\n",
    "plt.ylabel(\"permit rechecks\",fontsize=18)\n",
    "plt.show()"
   ]
  },
  {
   "cell_type": "markdown",
   "metadata": {},
   "source": [
    "#### In this scatter plot we can see that permit_rechecks amounts shranks starting 2015-2021 and remained on on average the same."
   ]
  },
  {
   "cell_type": "markdown",
   "metadata": {},
   "source": [
    "<a id='conclusions'></a>\n",
    "## Conclusions\n",
    "> After this miniture investigation anf analysis on the firearm background check dataset here are some of my realizations:\n",
    "> \n",
    "\n",
    ">**For simplicity I consider the nummber of permits as the main metric of firearm possession as this is the most reliable source of data we actually have and because the number of possession with no permits sre ratther rough estimates.**\n",
    ">\n",
    ">-  though March is the month with the most amount of permits over the years, the data shows that there is no significant variance between the month except a slight decrease of permit amounts in the summer months 7-9\n",
    ">-  The number of permits kept increasing gradually over the years starting 1998 until its peak in in 2016 and then a slight drop drop perhaps due to the covid 19 situation\n",
    ">-  Kentuckty recorded the maximum maount of permits with no close contender, however it can be seen that states like north Carolina, Utah,Texas and the likes have a decent amount of permits on their own when compared to islands like guam,hawai etc. that have almost zero contribution to the permit amounts\n",
    ">\n",
    ">**Limitations**\n",
    ">-  Again my conclusion depend on the validity of the data.\n",
    "With datasets gathered over long amount of times it must be stated that errors are likely to occur and thus the analysis may not portray the whole picture un that regard.\n",
    ">-  Before the year 2010 a lot of values throughout the coilumns wer missing, though we dropped insufficient and filled accordin\n",
    ">-  The statics used are descriptive and accordingly we did not create any hypotheses or controlled experiments.\n",
    "\n"
   ]
  }
 ],
 "metadata": {
  "kernelspec": {
   "display_name": "Python 3",
   "language": "python",
   "name": "python3"
  },
  "language_info": {
   "codemirror_mode": {
    "name": "ipython",
    "version": 3
   },
   "file_extension": ".py",
   "mimetype": "text/x-python",
   "name": "python",
   "nbconvert_exporter": "python",
   "pygments_lexer": "ipython3",
   "version": "3.7.0"
  }
 },
 "nbformat": 4,
 "nbformat_minor": 2
}
